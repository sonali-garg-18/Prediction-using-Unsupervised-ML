{
 "cells": [
  {
   "cell_type": "markdown",
   "id": "32e8f423",
   "metadata": {},
   "source": [
    "**GRIP:** The Sparks Foundation-Data Science and Business Analytics Internship"
   ]
  },
  {
   "cell_type": "markdown",
   "id": "985c0f19",
   "metadata": {},
   "source": [
    "**Task 2: Prediction using Unsupervised Machine Learning**\n",
    "\n"
   ]
  },
  {
   "cell_type": "markdown",
   "id": "61ac1893",
   "metadata": {},
   "source": [
    "**Objective of the problem:** Predicting optimum number of clusters using unsupervised ML and represent it visually.\n"
   ]
  },
  {
   "cell_type": "markdown",
   "id": "5a6a467d",
   "metadata": {},
   "source": [
    "**Author: Sonali Garg**\n",
    "\n"
   ]
  },
  {
   "cell_type": "markdown",
   "id": "83b6b65e",
   "metadata": {},
   "source": [
    "**Method for unsupervised ML used:** K-Means Clustering"
   ]
  },
  {
   "cell_type": "markdown",
   "id": "4803f0d6",
   "metadata": {},
   "source": [
    "Unsupervised machine learning is a type of machine learning in which a model is trained to find patterns or relationships in the input data without explicit guidance on what to look for. Unlike supervised learning, there is no target variable or labeled data to guide the model, so the algorithm must identify patterns and structures in the data on its own."
   ]
  },
  {
   "cell_type": "code",
   "execution_count": 1,
   "id": "b45bcb08",
   "metadata": {},
   "outputs": [],
   "source": [
    "#importing the libraries\n",
    "import numpy as np\n",
    "import pandas as pd\n",
    "import matplotlib.pyplot as plt\n",
    "from sklearn import datasets"
   ]
  },
  {
   "cell_type": "code",
   "execution_count": 5,
   "id": "9a8e39e8",
   "metadata": {},
   "outputs": [
    {
     "data": {
      "text/html": [
       "<div>\n",
       "<style scoped>\n",
       "    .dataframe tbody tr th:only-of-type {\n",
       "        vertical-align: middle;\n",
       "    }\n",
       "\n",
       "    .dataframe tbody tr th {\n",
       "        vertical-align: top;\n",
       "    }\n",
       "\n",
       "    .dataframe thead th {\n",
       "        text-align: right;\n",
       "    }\n",
       "</style>\n",
       "<table border=\"1\" class=\"dataframe\">\n",
       "  <thead>\n",
       "    <tr style=\"text-align: right;\">\n",
       "      <th></th>\n",
       "      <th>Id</th>\n",
       "      <th>SepalLengthCm</th>\n",
       "      <th>SepalWidthCm</th>\n",
       "      <th>PetalLengthCm</th>\n",
       "      <th>PetalWidthCm</th>\n",
       "      <th>Species</th>\n",
       "    </tr>\n",
       "  </thead>\n",
       "  <tbody>\n",
       "    <tr>\n",
       "      <th>0</th>\n",
       "      <td>1</td>\n",
       "      <td>5.1</td>\n",
       "      <td>3.5</td>\n",
       "      <td>1.4</td>\n",
       "      <td>0.2</td>\n",
       "      <td>Iris-setosa</td>\n",
       "    </tr>\n",
       "    <tr>\n",
       "      <th>1</th>\n",
       "      <td>2</td>\n",
       "      <td>4.9</td>\n",
       "      <td>3.0</td>\n",
       "      <td>1.4</td>\n",
       "      <td>0.2</td>\n",
       "      <td>Iris-setosa</td>\n",
       "    </tr>\n",
       "    <tr>\n",
       "      <th>2</th>\n",
       "      <td>3</td>\n",
       "      <td>4.7</td>\n",
       "      <td>3.2</td>\n",
       "      <td>1.3</td>\n",
       "      <td>0.2</td>\n",
       "      <td>Iris-setosa</td>\n",
       "    </tr>\n",
       "    <tr>\n",
       "      <th>3</th>\n",
       "      <td>4</td>\n",
       "      <td>4.6</td>\n",
       "      <td>3.1</td>\n",
       "      <td>1.5</td>\n",
       "      <td>0.2</td>\n",
       "      <td>Iris-setosa</td>\n",
       "    </tr>\n",
       "    <tr>\n",
       "      <th>4</th>\n",
       "      <td>5</td>\n",
       "      <td>5.0</td>\n",
       "      <td>3.6</td>\n",
       "      <td>1.4</td>\n",
       "      <td>0.2</td>\n",
       "      <td>Iris-setosa</td>\n",
       "    </tr>\n",
       "  </tbody>\n",
       "</table>\n",
       "</div>"
      ],
      "text/plain": [
       "   Id  SepalLengthCm  SepalWidthCm  PetalLengthCm  PetalWidthCm      Species\n",
       "0   1            5.1           3.5            1.4           0.2  Iris-setosa\n",
       "1   2            4.9           3.0            1.4           0.2  Iris-setosa\n",
       "2   3            4.7           3.2            1.3           0.2  Iris-setosa\n",
       "3   4            4.6           3.1            1.5           0.2  Iris-setosa\n",
       "4   5            5.0           3.6            1.4           0.2  Iris-setosa"
      ]
     },
     "execution_count": 5,
     "metadata": {},
     "output_type": "execute_result"
    }
   ],
   "source": [
    "#loading the iris dataset using pandas\n",
    "df= pd.read_csv('iris.csv')\n",
    "df.head()"
   ]
  },
  {
   "cell_type": "markdown",
   "id": "ac62de22",
   "metadata": {},
   "source": [
    "**What is K-means clustering?** \n",
    "It is an iterative algorithm that divides the unlabeled dataset into k different clusters in such a way that each dataset belongs only one group that has similar properties.\n",
    "Here K defines the number of pre-defined clusters that need to be created in the process, as if K=2, there will be two clusters, and for K=3, there will be three clusters, and so on."
   ]
  },
  {
   "cell_type": "code",
   "execution_count": 6,
   "id": "1d93c293",
   "metadata": {},
   "outputs": [],
   "source": [
    "#finding the optimum number of clusters for K-means classification\n",
    "x=df.iloc[:,[0,1,2,3]].values # this returns the values in the resulting subset as a NumPy array\n",
    "from sklearn.cluster import KMeans #importing kmeans clustering algorithm\n",
    "wcss=[] #within cluster sum of squares; used to evaluate the quality of the clustering solution\n",
    "for i in range(1,11): #integers used to test different numbers of clusters for the KMeans algorithm\n",
    "    kmeans=KMeans(n_clusters=i, init='k-means++', max_iter=300, n_init=10, random_state=0) #creates a new KMeans object with the specified parameters\n",
    "    kmeans.fit(x) #fits the KMeans model to the data 'x' using the specified parameters\n",
    "    wcss.append(kmeans.inertia_) #adds the WCSS value for the current clustering solution"
   ]
  },
  {
   "cell_type": "markdown",
   "id": "9ede9a4e",
   "metadata": {},
   "source": [
    "**Elbow Method:** It is a way to visualize and choose the appropriate number of clusters for K-means clustering.\n",
    "A plot of the WCSS against the number of clusters, results into a point at which the rate of decrease in WCSS begins to level off. This point looks like an elbow, hence the name \"elbow method.\""
   ]
  },
  {
   "cell_type": "code",
   "execution_count": 8,
   "id": "3ef83cd6",
   "metadata": {},
   "outputs": [
    {
     "data": {
      "image/png": "[encoded data removed]",
      "text/plain": [
       "<Figure size 432x288 with 1 Axes>"
      ]
     },
     "metadata": {
      "needs_background": "light"
     },
     "output_type": "display_data"
    }
   ],
   "source": [
    "#plotting the results onto a line graph\n",
    "plt.plot(range(1,11),wcss)\n",
    "plt.title('The elbow method')\n",
    "plt.xlabel('Number of clusters')\n",
    "plt.ylabel('wcss') #within cluster sum of squares\n",
    "plt.show()"
   ]
  },
  {
   "cell_type": "markdown",
   "id": "38555013",
   "metadata": {},
   "source": [
    "From the above elbow method graph we can see that the optimum clusters is where the elbow occurs. This is when the wcss doesn't decrease significantly with every iteration.\n",
    "Choosing the number of clusters as 3, i.e., K=3"
   ]
  },
  {
   "cell_type": "code",
   "execution_count": 9,
   "id": "354e0671",
   "metadata": {},
   "outputs": [],
   "source": [
    "#applying kmeans to the dataset and creating the kmeans classifier\n",
    "kmeans=KMeans(n_clusters=3, init='k-means++', max_iter=300, n_init=10, random_state=0)\n",
    "y_kmeans=kmeans.fit_predict(x) #fitting the kmeans model to the data and then predicting the cluster labels for the data"
   ]
  },
  {
   "cell_type": "code",
   "execution_count": 10,
   "id": "74e28e51",
   "metadata": {},
   "outputs": [
    {
     "data": {
      "text/plain": [
       "<matplotlib.legend.Legend at 0x225d103b310>"
      ]
     },
     "execution_count": 10,
     "metadata": {},
     "output_type": "execute_result"
    },
    {
     "data": {
      "image/png": "[encoded data removed]",
      "text/plain": [
       "<Figure size 432x288 with 1 Axes>"
      ]
     },
     "metadata": {
      "needs_background": "light"
     },
     "output_type": "display_data"
    }
   ],
   "source": [
    "#visualizing the clusters\n",
    "plt.scatter(x[y_kmeans==0,0],x[y_kmeans==0,1],s=100,c='red',label='Iris-setosa')\n",
    "plt.scatter(x[y_kmeans==1,0],x[y_kmeans==1,1],s=100,c='blue',label='Iris-versicolour')\n",
    "plt.scatter(x[y_kmeans==2,0],x[y_kmeans==2,1],s=100,c='green',label='Iris-virginica')\n",
    "#plotting the centroids of the clusters\n",
    "plt.scatter(kmeans.cluster_centers_[:,0], kmeans.cluster_centers_[:,1],s=100,c='yellow',label='centroids')\n",
    "plt.legend()"
   ]
  },
  {
   "cell_type": "markdown",
   "id": "ea87dd59",
   "metadata": {},
   "source": [
    "**THANK YOU!**"
   ]
  },
  {
   "cell_type": "code",
   "execution_count": null,
   "id": "b4dc7a4b",
   "metadata": {},
   "outputs": [],
   "source": []
  }
 ],
 "metadata": {
  "kernelspec": {
   "display_name": "Python 3 (ipykernel)",
   "language": "python",
   "name": "python3"
  },
  "language_info": {
   "codemirror_mode": {
    "name": "ipython",
    "version": 3
   },
   "file_extension": ".py",
   "mimetype": "text/x-python",
   "name": "python",
   "nbconvert_exporter": "python",
   "pygments_lexer": "ipython3",
   "version": "3.10.1"
  }
 },
 "nbformat": 4,
 "nbformat_minor": 5
}
